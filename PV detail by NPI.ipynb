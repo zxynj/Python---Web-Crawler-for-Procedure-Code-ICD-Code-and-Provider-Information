{
 "cells": [
  {
   "cell_type": "code",
   "execution_count": 1,
   "metadata": {},
   "outputs": [],
   "source": [
    "import requests\n",
    "import bs4\n",
    "import re\n",
    "import xlsxwriter\n",
    "import nltk\n",
    "from nltk.tokenize import word_tokenize"
   ]
  },
  {
   "cell_type": "code",
   "execution_count": 2,
   "metadata": {},
   "outputs": [],
   "source": [
    "npi_list=['pv_npi']\n",
    "fname_list=['pv_fname']\n",
    "lname_list=['pv_lname']\n",
    "add1_list=['pv_add1']\n",
    "city_list=['pv_city']\n",
    "state_list=['pv_state']\n",
    "zipcode_list=['pv_zip']"
   ]
  },
  {
   "cell_type": "code",
   "execution_count": 16,
   "metadata": {},
   "outputs": [
    {
     "name": "stdout",
     "output_type": "stream",
     "text": [
      "1033155213\n",
      "fname: EDWARD\n",
      "lname: CHAN\n",
      "add1: 728 PACIFIC AVE\n",
      "city: SAN FRANCISCO\n",
      "state: CA\n",
      "zip: 94133\n",
      "1184607970\n",
      "fname: HANLON\n",
      "lname: FONG\n",
      "add1: 2000 VAN NESS AVE\n",
      "city: SAN FRANCISCO\n",
      "state: CA\n",
      "zip: 94109\n",
      "1235143702\n",
      "fname: JEROME\n",
      "lname: JEW\n",
      "add1: 919 CLAY ST\n",
      "city: SAN FRANCISCO\n",
      "state: CA\n",
      "zip: 94108\n",
      "1235143702\n",
      "fname: JEROME\n",
      "lname: JEW\n",
      "add1: 919 CLAY ST\n",
      "city: SAN FRANCISCO\n",
      "state: CA\n",
      "zip: 94108\n",
      "1265461644\n",
      "fname: FRED\n",
      "lname: LUI\n",
      "add1: 728 PACIFIC AVE\n",
      "city: SAN FRANCISCO\n",
      "state: CA\n",
      "zip: 94133\n",
      "1265714281\n",
      "fname: KATHERINE\n",
      "lname: LEE\n",
      "add1: 929 CLAY ST\n",
      "city: SAN FRANCISCO\n",
      "state: CA\n",
      "zip: 94108\n",
      "1265815955\n",
      "fname: \n",
      "lname: CITYVIEW EYE CENTER A MEDICAL CORPORATION\n",
      "add1: 929 CLAY ST\n",
      "city: SAN FRANCISCO\n",
      "state: CA\n",
      "zip: 94108\n",
      "1275532145\n",
      "fname: SIMON\n",
      "lname: LEE\n",
      "add1: 1828 EL CAMINO REAL\n",
      "city: BURLINGAME\n",
      "state: CA\n",
      "zip: 94010\n",
      "1285737692\n",
      "fname: HO\n",
      "lname: TAN\n",
      "add1: 890 JACKSON ST\n",
      "city: SAN FRANCISCO\n",
      "state: CA\n",
      "zip: 94133\n",
      "1306855564\n",
      "fname: \n",
      "lname: ARTHUR S. CHIN M.D. INC .\n",
      "add1: 770 STOCKTON ST\n",
      "city: SAN FRANCISCO\n",
      "state: CA\n",
      "zip: 94108\n",
      "1326136557\n",
      "fname: MAI SIE\n",
      "lname: CHAN\n",
      "add1: 929 CLAY ST\n",
      "city: SAN FRANCISCO\n",
      "state: CA\n",
      "zip: 94108\n",
      "1336101500\n",
      "fname: CHUK\n",
      "lname: KWAN\n",
      "add1: 929 CLAY ST\n",
      "city: SAN FRANCISCO\n",
      "state: CA\n",
      "zip: 94108\n",
      "1346232451\n",
      "fname: LINDA\n",
      "lname: HO\n",
      "add1: 770 STOCKTON ST\n",
      "city: SAN FRANCISCO\n",
      "state: CA\n",
      "zip: 94108\n",
      "1386674471\n",
      "fname: ERVIN\n",
      "lname: WONG\n",
      "add1: 728 PACIFIC AVE\n",
      "city: SAN FRANCISCO\n",
      "state: CA\n",
      "zip: 94133\n",
      "1457489825\n",
      "fname: DONALD\n",
      "lname: ZUMWALT\n",
      "add1: 2333 BUCHANAN ST\n",
      "city: SAN FRANCISCO\n",
      "state: CA\n",
      "zip: 94115\n",
      "1528153350\n",
      "fname: TUAN\n",
      "lname: HOANG\n",
      "add1: 890 JACKSON ST\n",
      "city: SAN FRANCISCO\n",
      "state: CA\n",
      "zip: 94133\n",
      "1528216033\n",
      "fname: WILLIAM\n",
      "lname: ROJAS\n",
      "add1: 115 MALL DR\n",
      "city: HANFORD\n",
      "state: CA\n",
      "zip: 93230\n",
      "1609832724\n",
      "fname: KENNETH\n",
      "lname: CHANG\n",
      "add1: 728 PACIFIC AVE\n",
      "city: SAN FRANCISCO\n",
      "state: CA\n",
      "zip: 94133\n",
      "1629489554\n",
      "fname: NAMRITA\n",
      "lname: BOPARAI\n",
      "add1: 150 55TH ST\n",
      "city: BROOKLYN\n",
      "state: NY\n",
      "zip: 11220\n",
      "1659462299\n",
      "fname: ARTHUR\n",
      "lname: CHIN\n",
      "add1: 770 STOCKTON ST\n",
      "city: SAN FRANCISCO\n",
      "state: CA\n",
      "zip: 94108\n",
      "1669611729\n",
      "fname: \n",
      "lname: CHUK W. KWAN MD INC .\n",
      "add1: 929 CLAY ST\n",
      "city: SAN FRANCISCO\n",
      "state: CA\n",
      "zip: 94108\n",
      "1699792663\n",
      "fname: JUSTIN\n",
      "lname: QUOCK\n",
      "add1: 929 CLAY ST\n",
      "city: SAN FRANCISCO\n",
      "state: CA\n",
      "zip: 94108\n",
      "1700896370\n",
      "fname: LAWRENCE\n",
      "lname: CHAO\n",
      "add1: 2645 OCEAN AVE\n",
      "city: SAN FRANCISCO\n",
      "state: CA\n",
      "zip: 94132\n",
      "1710952957\n",
      "fname: SAI SUN\n",
      "lname: HO\n",
      "add1: 2858 SAN BRUNO AVE\n",
      "city: SAN FRANCISCO\n",
      "state: CA\n",
      "zip: 94134\n",
      "1811089303\n",
      "fname: HANS\n",
      "lname: YU\n",
      "add1: 1431 NORIEGA ST\n",
      "city: SAN FRANCISCO\n",
      "state: CA\n",
      "zip: 94122\n",
      "1831190537\n",
      "fname: MARTIN\n",
      "lname: LEUNG\n",
      "add1: 598 BOSWORTH ST\n",
      "city: SAN FRANCISCO\n",
      "state: CA\n",
      "zip: 94131\n",
      "1831204486\n",
      "fname: WILLIAM\n",
      "lname: CHUNG\n",
      "add1: 728 PACIFIC AVE\n",
      "city: SAN FRANCISCO\n",
      "state: CA\n",
      "zip: 94133\n",
      "1861597932\n",
      "fname: CRAWFORD\n",
      "lname: CHUNG\n",
      "add1: 3838 CALIFORNIA ST\n",
      "city: SAN FRANCISCO\n",
      "state: CA\n",
      "zip: 94118\n",
      "1871544890\n",
      "fname: MARIAN\n",
      "lname: CHIN\n",
      "add1: 770 STOCKTON ST\n",
      "city: SAN FRANCISCO\n",
      "state: CA\n",
      "zip: 94108\n",
      "1891791877\n",
      "fname: WAI LAM\n",
      "lname: CHAN\n",
      "add1: 1431 NORIEGA ST\n",
      "city: SAN FRANCISCO\n",
      "state: CA\n",
      "zip: 94122\n",
      "1912091919\n",
      "fname: KENNETH\n",
      "lname: CHAN\n",
      "add1: 789 VALLEJO ST\n",
      "city: SAN FRANCISCO\n",
      "state: CA\n",
      "zip: 94133\n"
     ]
    }
   ],
   "source": [
    "npi = ['1033155555']\n",
    "\n",
    "for i in npi:\n",
    "    print(i)\n",
    "    res = requests.get('https://npiregistry.cms.hhs.gov/registry/provider-view/'+i)\n",
    "    soup = bs4.BeautifulSoup(res.text, 'lxml')\n",
    "    name_text = soup.select('p')\n",
    "    name_text[0].getText()\n",
    "    name_token = word_tokenize(name_text[0].getText())\n",
    "    stop_words=['MMS','PH.D','MRS.','INCORPORATED','N.P','MR.','DPM','RN, CFNP','D.O','O.D','PA-C','MD','MS.','.','DR.','M.D','JR.','RN', ',', 'CFNP','MEDICAL','DOCTOR','F.A.C.P','M.D.']\n",
    "    name_token_cleaned = [word for word in name_token if not word in stop_words]\n",
    "    stop_words2=[',']\n",
    "    name_token_cleaned2 = [word for word in name_token if not word in stop_words2]\n",
    "    soup = bs4.BeautifulSoup(res.text, 'lxml')\n",
    "    add_chunk = soup.select('td')\n",
    "    \n",
    "    facility_word = ['INC','SYSTEMS','CORPORATION','PROTRANSPORT','HEALTH','HOSPITAL','CENTER','GROUP','INCORPORATED']\n",
    "    if any(c in facility_word for c in name_token):\n",
    "        fname=''\n",
    "        lname=' '.join(name_token_cleaned2)\n",
    "        add_text = add_chunk[11].getText()\n",
    "    else:\n",
    "        fname=name_token_cleaned[0].replace('-',' ')\n",
    "        lname=name_token_cleaned[len(name_token_cleaned)-1]\n",
    "        add_text = add_chunk[13].getText()\n",
    "    print(\"fname: \"+fname)\n",
    "    print(\"lname: \"+lname)\n",
    "         \n",
    "    add_text_cleaned = add_text.replace(\"\\n\", \"~\").replace(\"\\t\", \"\")\n",
    "   \n",
    "    if \"DIVISION OF HOSPITAL MEDICINE, UCSF\" in add_text_cleaned:\n",
    "        add_text_cleaned2 = add_text_cleaned.replace(\"DIVISION OF HOSPITAL MEDICINE, UCSF\", \"\")         \n",
    "    elif \"2ND FLOOR\" in add_text_cleaned:\n",
    "        add_text_cleaned2 = add_text_cleaned.replace(\"2ND FLOOR\", \"\")\n",
    "    elif \"# M-391\" in add_text_cleaned:\n",
    "        add_text_cleaned2 = add_text_cleaned.replace(\"# M-391\", \"\")\n",
    "    elif \"MB-2\" in add_text_cleaned:\n",
    "        add_text_cleaned2 = add_text_cleaned.replace(\"MB-2\", \"\")\n",
    "    elif \"MC #9116A\" in add_text_cleaned:\n",
    "        add_text_cleaned2 = add_text_cleaned.replace(\"MC #9116A\", \"\")          \n",
    "    elif \"LOWER LEVEL\" in add_text_cleaned:\n",
    "        add_text_cleaned2 = add_text_cleaned.replace(\"LOWER LEVEL\", \"\") \n",
    "    elif \"ATTN. HANFORD MEDICAL ASSOCIATES\" in add_text_cleaned:\n",
    "        add_text_cleaned2 = add_text_cleaned.replace(\"ATTN. HANFORD MEDICAL ASSOCIATES\", \"\")    \n",
    "    elif \"BETH ISRAEL DEACONESS MEDICALCTR.~330 BROOKLINE AVE., PBS 2ND FLOOR\" in add_text_cleaned:\n",
    "        add_text_cleaned2 = add_text_cleaned.replace(\"BETH ISRAEL DEACONESS MEDICALCTR.~330 BROOKLINE AVE., PBS 2ND FLOOR\", \"330 BROOKLINE AVE\")    \n",
    "    elif \"PATHOLOGY LAB DEPT\" in add_text_cleaned:\n",
    "        add_text_cleaned2 = add_text_cleaned.replace(\"PATHOLOGY LAB DEPT\", \"\")\n",
    "    elif \"S1-10\" in add_text_cleaned:\n",
    "        add_text_cleaned2 = add_text_cleaned.replace(\"S1-10\", \"\")\n",
    "        \n",
    "    else:\n",
    "        add_text_cleaned2=add_text_cleaned\n",
    "        \n",
    "    if \"STE\" in add_text_cleaned2:\n",
    "        rmv_reg = re.compile(\"(STE[\\w\\d\\-\\s\\#\\.\\,]+)\\~\")\n",
    "        rmv = rmv_reg.search(add_text_cleaned2).group(0)\n",
    "        add_text_cleaned3 = add_text_cleaned2.replace(rmv,\"\")\n",
    "    elif \"SUITE\" in add_text_cleaned2:\n",
    "        rmv_reg = re.compile(\"(SUITE[\\w\\d\\-\\s\\#\\.\\,]+)\\~\")\n",
    "        rmv = rmv_reg.search(add_text_cleaned2).group(0)\n",
    "        add_text_cleaned3 = add_text_cleaned2.replace(rmv,\"\")\n",
    "    elif \"ROOM\" in add_text_cleaned2:\n",
    "        rmv_reg = re.compile(\"(ROOM[\\w\\d\\-\\s\\#\\.\\,]+)\\~\")\n",
    "        rmv = rmv_reg.search(add_text_cleaned2).group(0)\n",
    "        add_text_cleaned3 = add_text_cleaned2.replace(rmv,\"\")\n",
    "    elif \"BOX\" in add_text_cleaned2:\n",
    "        rmv_reg = re.compile(\"(BOX[\\w\\d\\-\\s\\#\\.\\,]+)\\~\")\n",
    "        rmv = rmv_reg.search(add_text_cleaned2).group(0)\n",
    "        add_text_cleaned3 = add_text_cleaned2.replace(rmv,\"\")\n",
    "    elif \"~FL\" in add_text_cleaned2:\n",
    "        rmv_reg = re.compile(\"(FL[\\w\\d\\-\\s\\#\\.\\,]+)\\~\")\n",
    "        rmv = rmv_reg.search(add_text_cleaned2).group(0)\n",
    "        add_text_cleaned3 = add_text_cleaned2.replace(rmv,\"\") \n",
    "    elif \"#\" in add_text_cleaned2:\n",
    "        rmv_reg = re.compile(\"(#[\\w\\d\\-\\s\\#\\.\\,]+)\\~\")\n",
    "        rmv = rmv_reg.search(add_text_cleaned2).group(0)\n",
    "        add_text_cleaned3 = add_text_cleaned2.replace(rmv,\"\")\n",
    "    elif \"RM\" in add_text_cleaned2:\n",
    "        rmv_reg = re.compile(\"(RM[\\w\\d\\-\\s\\#\\.\\,]+)\\~\")\n",
    "        rmv = rmv_reg.search(add_text_cleaned2).group(0)\n",
    "        add_text_cleaned3 = add_text_cleaned2.replace(rmv,\"\")\n",
    "    elif \"LEVEL\" in add_text_cleaned2:\n",
    "        rmv_reg = re.compile(\"(LEVEL[\\w\\d\\-\\s\\#\\.\\,]+)\\~\")\n",
    "        rmv = rmv_reg.search(add_text_cleaned2).group(0)\n",
    "        add_text_cleaned3 = add_text_cleaned2.replace(rmv,\"\")\n",
    "    elif \"CEP\" in add_text_cleaned2:\n",
    "        rmv_reg = re.compile(\"(CEP[\\w\\d\\-\\s\\#\\.\\,]+)\\~\")\n",
    "        rmv = rmv_reg.search(add_text_cleaned2).group(0)\n",
    "        add_text_cleaned3 = add_text_cleaned2.replace(rmv,\"\")\n",
    "    elif \"APT\" in add_text_cleaned2:\n",
    "        rmv_reg = re.compile(\"(APT[\\w\\d\\-\\s\\#\\.\\,]+)\\~\")\n",
    "        rmv = rmv_reg.search(add_text_cleaned2).group(0)\n",
    "        add_text_cleaned3 = add_text_cleaned2.replace(rmv,\"\")\n",
    "        \n",
    "    else:\n",
    "        add_text_cleaned3=add_text_cleaned2       \n",
    "        \n",
    "    regexp = re.compile(\"[~]+\\s+([\\d\\-]+\\s+[\\w\\s]+[\\w]+)[\\,\\.\\s\\d\\~]*(\\w[\\w\\s]+)\\,\\s([\\w]{2})\\s+[~]+([\\d]{5})\")\n",
    "    add1 = regexp.search(add_text_cleaned3).group(1)\n",
    "    city = regexp.search(add_text_cleaned3).group(2)\n",
    "    state = regexp.search(add_text_cleaned3).group(3)\n",
    "    zipcode = regexp.search(add_text_cleaned3).group(4)\n",
    "    print(\"add1: \"+add1)\n",
    "    print(\"city: \"+city)\n",
    "    print(\"state: \"+state)\n",
    "    print(\"zip: \"+zipcode)\n",
    "    npi_list.append(i)\n",
    "    fname_list.append(fname)\n",
    "    lname_list.append(lname)\n",
    "    add1_list.append(add1)\n",
    "    city_list.append(city)\n",
    "    state_list.append(state)\n",
    "    zipcode_list.append(zipcode)"
   ]
  },
  {
   "cell_type": "code",
   "execution_count": 17,
   "metadata": {},
   "outputs": [],
   "source": [
    "workbook = xlsxwriter.Workbook('pv name.xlsx')\n",
    "worksheet = workbook.add_worksheet()\n",
    "\n",
    "array = [npi_list,fname_list,lname_list,add1_list,city_list,state_list,zipcode_list]\n",
    "\n",
    "row = 0\n",
    "\n",
    "for col, data in enumerate(array):\n",
    "    worksheet.write_column(row, col, data)\n",
    "\n",
    "workbook.close()"
   ]
  },
  {
   "cell_type": "code",
   "execution_count": null,
   "metadata": {},
   "outputs": [],
   "source": [
    "#TEST"
   ]
  },
  {
   "cell_type": "code",
   "execution_count": null,
   "metadata": {},
   "outputs": [],
   "source": []
  },
  {
   "cell_type": "code",
   "execution_count": 4,
   "metadata": {},
   "outputs": [],
   "source": [
    "res = requests.get('https://npiregistry.cms.hhs.gov/registry/provider-view/1306855564')\n",
    "#res.text"
   ]
  },
  {
   "cell_type": "code",
   "execution_count": 5,
   "metadata": {},
   "outputs": [
    {
     "data": {
      "text/plain": [
       "'   \\n                  ARTHUR S. CHIN, M.D., INC. '"
      ]
     },
     "execution_count": 5,
     "metadata": {},
     "output_type": "execute_result"
    }
   ],
   "source": [
    "soup = bs4.BeautifulSoup(res.text, 'lxml')\n",
    "name_text = soup.select('p')\n",
    "name_text[0].getText()"
   ]
  },
  {
   "cell_type": "code",
   "execution_count": 8,
   "metadata": {},
   "outputs": [
    {
     "data": {
      "text/plain": [
       "['ARTHUR', 'S.', 'CHIN', 'INC']"
      ]
     },
     "execution_count": 8,
     "metadata": {},
     "output_type": "execute_result"
    }
   ],
   "source": [
    "name_token = word_tokenize(name_text[0].getText())\n",
    "stop_words=['MMS','PH.D','MRS.','INCORPORATED','N.P','MR.','DPM','RN, CFNP','D.O','O.D','PA-C','MD','MS.','.','DR.','M.D','JR.','RN', ',', 'CFNP','MEDICAL','DOCTOR','F.A.C.P','M.D.']\n",
    "name_token_cleaned = [word for word in name_token if not word in stop_words]\n",
    "name_token_cleaned"
   ]
  },
  {
   "cell_type": "code",
   "execution_count": 9,
   "metadata": {},
   "outputs": [
    {
     "data": {
      "text/plain": [
       "['ARTHUR', 'S.', 'CHIN', 'M.D.', 'INC', '.']"
      ]
     },
     "execution_count": 9,
     "metadata": {},
     "output_type": "execute_result"
    }
   ],
   "source": [
    "stop_words2=[',']\n",
    "name_token_cleaned2 = [word for word in name_token if not word in stop_words2]\n",
    "name_token_cleaned2"
   ]
  },
  {
   "cell_type": "code",
   "execution_count": 10,
   "metadata": {},
   "outputs": [
    {
     "name": "stdout",
     "output_type": "stream",
     "text": [
      "fname: \n",
      "lname: ARTHUR S. CHIN M.D. INC .\n"
     ]
    }
   ],
   "source": [
    "facility_word = ['INC','SYSTEMS','CORPORATION','PROTRANSPORT','HEALTH','HOSPITAL','CENTER','GROUP','INCORPORATED']\n",
    "if any(c in facility_word for c in name_token):\n",
    "    fname=''\n",
    "    lname=' '.join([word for word in name_token if not word in stop_words2])\n",
    "    add_text = add_chunk[11].getText()\n",
    "else:\n",
    "    fname=name_token_cleaned[0].replace('-',' ')\n",
    "    lname=name_token_cleaned[len(name_token_cleaned)-1]\n",
    "    add_text = add_chunk[13].getText()\n",
    "print(\"fname: \"+fname)\n",
    "print(\"lname: \"+lname)"
   ]
  },
  {
   "cell_type": "code",
   "execution_count": 11,
   "metadata": {},
   "outputs": [
    {
     "data": {
      "text/plain": [
       "' \\n\\t\\t\\t\\t\\t\\t\\n\\t\\t\\t\\t\\t\\t\\n\\t\\t\\t\\t\\t\\t\\t\\n                                770 STOCKTON ST\\n\\t\\t\\t\\t\\t\\t\\t\\t\\n\\t\\t\\t\\t\\t\\t\\t\\t\\n\\t\\t\\t\\t\\t\\t\\t\\tSAN FRANCISCO, CA \\n\\t\\t\\t\\t\\t\\t\\t\\t\\n\\t\\t\\t\\t\\t\\t\\t\\t\\n\\t\\t\\t\\t\\t\\t\\t\\t\\t94108-2313\\n\\t\\t\\t\\t\\t\\t\\t\\t\\n\\t\\t\\t\\t\\t\\t\\t\\t\\n\\t\\t\\t\\t\\t\\t\\t\\t\\n\\t\\t\\t\\t\\t\\t\\t\\tUnited States\\n\\t\\t\\t\\t\\t\\t\\t\\t\\n                                Phone: 415-982-2292 | \\n\\t\\t\\t\\t\\t\\t\\t\\tFax: 415-982-3910\\n              \\n\\t\\t\\t\\t\\t\\t\\t\\t\\nView Map \\n'"
      ]
     },
     "execution_count": 11,
     "metadata": {},
     "output_type": "execute_result"
    }
   ],
   "source": [
    "soup = bs4.BeautifulSoup(res.text, 'lxml')\n",
    "add_chunk = soup.select('td')\n",
    "add_text = add_chunk[11].getText()\n",
    "add_text"
   ]
  },
  {
   "cell_type": "code",
   "execution_count": 12,
   "metadata": {},
   "outputs": [
    {
     "data": {
      "text/plain": [
       "' \\n\\t\\t\\t\\t\\t\\t\\n\\t\\t\\t\\t\\t\\t\\n\\t\\t\\t\\t\\t\\t\\t\\n                                770 STOCKTON ST\\n\\t\\t\\t\\t\\t\\t\\t\\t\\n\\t\\t\\t\\t\\t\\t\\t\\t\\n\\t\\t\\t\\t\\t\\t\\t\\tSAN FRANCISCO, CA \\n\\t\\t\\t\\t\\t\\t\\t\\t\\n\\t\\t\\t\\t\\t\\t\\t\\t\\n\\t\\t\\t\\t\\t\\t\\t\\t\\t94108-2313\\n\\t\\t\\t\\t\\t\\t\\t\\t\\n\\t\\t\\t\\t\\t\\t\\t\\t\\n\\t\\t\\t\\t\\t\\t\\t\\t\\n\\t\\t\\t\\t\\t\\t\\t\\tUnited States\\n\\t\\t\\t\\t\\t\\t\\t\\t\\n                                Phone: 415-982-2292 | \\n\\t\\t\\t\\t\\t\\t\\t\\tFax: 415-982-3910\\n              \\n\\t\\t\\t\\t\\t\\t\\t\\t\\nView Map \\n'"
      ]
     },
     "execution_count": 12,
     "metadata": {},
     "output_type": "execute_result"
    }
   ],
   "source": [
    "soup = bs4.BeautifulSoup(res.text, 'lxml')\n",
    "add_chunk = soup.select('td')\n",
    "if any(c in facility_word for c in name_token_cleaned):\n",
    "    add_text = add_chunk[11].getText()\n",
    "else:\n",
    "    add_text = add_chunk[13].getText()\n",
    "add_text\n"
   ]
  },
  {
   "cell_type": "code",
   "execution_count": 13,
   "metadata": {},
   "outputs": [
    {
     "data": {
      "text/plain": [
       "' ~~~~                                770 STOCKTON ST~~~SAN FRANCISCO, CA ~~~94108-2313~~~~United States~~                                Phone: 415-982-2292 | ~Fax: 415-982-3910~              ~~View Map ~'"
      ]
     },
     "execution_count": 13,
     "metadata": {},
     "output_type": "execute_result"
    }
   ],
   "source": [
    "add_text_cleaned = add_text.replace(\"\\n\", \"~\").replace(\"\\t\", \"\")\n",
    "add_text_cleaned"
   ]
  },
  {
   "cell_type": "code",
   "execution_count": null,
   "metadata": {},
   "outputs": [],
   "source": []
  },
  {
   "cell_type": "code",
   "execution_count": 14,
   "metadata": {},
   "outputs": [
    {
     "data": {
      "text/plain": [
       "' ~~~~                                770 STOCKTON ST~~~SAN FRANCISCO, CA ~~~94108-2313~~~~United States~~                                Phone: 415-982-2292 | ~Fax: 415-982-3910~              ~~View Map ~'"
      ]
     },
     "execution_count": 14,
     "metadata": {},
     "output_type": "execute_result"
    }
   ],
   "source": [
    "    if \"DIVISION OF HOSPITAL MEDICINE, UCSF\" in add_text_cleaned:\n",
    "        add_text_cleaned2 = add_text_cleaned.replace(\"DIVISION OF HOSPITAL MEDICINE, UCSF\", \"\")         \n",
    "    elif \"2ND FLOOR\" in add_text_cleaned:\n",
    "        add_text_cleaned2 = add_text_cleaned.replace(\"2ND FLOOR\", \"\")\n",
    "    elif \"# M-391\" in add_text_cleaned:\n",
    "        add_text_cleaned2 = add_text_cleaned.replace(\"# M-391\", \"\")\n",
    "    elif \"MB-2\" in add_text_cleaned:\n",
    "        add_text_cleaned2 = add_text_cleaned.replace(\"MB-2\", \"\")\n",
    "    elif \"MC #9116A\" in add_text_cleaned:\n",
    "        add_text_cleaned2 = add_text_cleaned.replace(\"MC #9116A\", \"\")          \n",
    "    elif \"LOWER LEVEL\" in add_text_cleaned:\n",
    "        add_text_cleaned2 = add_text_cleaned.replace(\"LOWER LEVEL\", \"\") \n",
    "    elif \"ATTN. HANFORD MEDICAL ASSOCIATES\" in add_text_cleaned:\n",
    "        add_text_cleaned2 = add_text_cleaned.replace(\"ATTN. HANFORD MEDICAL ASSOCIATES\", \"\")    \n",
    "    elif \"BETH ISRAEL DEACONESS MEDICALCTR.~330 BROOKLINE AVE., PBS 2ND FLOOR\" in add_text_cleaned:\n",
    "        add_text_cleaned2 = add_text_cleaned.replace(\"BETH ISRAEL DEACONESS MEDICALCTR.~330 BROOKLINE AVE., PBS 2ND FLOOR\", \"330 BROOKLINE AVE\")    \n",
    "    elif \"PATHOLOGY LAB DEPT\" in add_text_cleaned:\n",
    "        add_text_cleaned2 = add_text_cleaned.replace(\"PATHOLOGY LAB DEPT\", \"\")\n",
    "    elif \"S1-10\" in add_text_cleaned:\n",
    "        add_text_cleaned2 = add_text_cleaned.replace(\"S1-10\", \"\")\n",
    "    \n",
    "    else:\n",
    "        add_text_cleaned2=add_text_cleaned\n",
    "        \n",
    "    if \"STE\" in add_text_cleaned2:\n",
    "        rmv_reg = re.compile(\"(STE[\\w\\d\\-\\s\\#\\.\\,]+)\\~\")\n",
    "        rmv = rmv_reg.search(add_text_cleaned2).group(0)\n",
    "        add_text_cleaned3 = add_text_cleaned2.replace(rmv,\"\")\n",
    "    elif \"SUITE\" in add_text_cleaned2:\n",
    "        rmv_reg = re.compile(\"(SUITE[\\w\\d\\-\\s\\#\\.\\,]+)\\~\")\n",
    "        rmv = rmv_reg.search(add_text_cleaned2).group(0)\n",
    "        add_text_cleaned3 = add_text_cleaned2.replace(rmv,\"\")\n",
    "    elif \"ROOM\" in add_text_cleaned2:\n",
    "        rmv_reg = re.compile(\"(ROOM[\\w\\d\\-\\s\\#\\.\\,]+)\\~\")\n",
    "        rmv = rmv_reg.search(add_text_cleaned2).group(0)\n",
    "        add_text_cleaned3 = add_text_cleaned2.replace(rmv,\"\")\n",
    "    elif \"BOX\" in add_text_cleaned2:\n",
    "        rmv_reg = re.compile(\"(BOX[\\w\\d\\-\\s\\#\\.\\,]+)\\~\")\n",
    "        rmv = rmv_reg.search(add_text_cleaned2).group(0)\n",
    "        add_text_cleaned3 = add_text_cleaned2.replace(rmv,\"\")\n",
    "    elif \"~FL\" in add_text_cleaned2:\n",
    "        rmv_reg = re.compile(\"(FL[\\w\\d\\-\\s\\#\\.\\,]+)\\~\")\n",
    "        rmv = rmv_reg.search(add_text_cleaned2).group(0)\n",
    "        add_text_cleaned3 = add_text_cleaned2.replace(rmv,\"\") \n",
    "    elif \"#\" in add_text_cleaned2:\n",
    "        rmv_reg = re.compile(\"(#[\\w\\d\\-\\s\\#\\.\\,]+)\\~\")\n",
    "        rmv = rmv_reg.search(add_text_cleaned2).group(0)\n",
    "        add_text_cleaned3 = add_text_cleaned2.replace(rmv,\"\")\n",
    "    elif \"RM\" in add_text_cleaned2:\n",
    "        rmv_reg = re.compile(\"(RM[\\w\\d\\-\\s\\#\\.\\,]+)\\~\")\n",
    "        rmv = rmv_reg.search(add_text_cleaned2).group(0)\n",
    "        add_text_cleaned3 = add_text_cleaned2.replace(rmv,\"\")\n",
    "    elif \"LEVEL\" in add_text_cleaned2:\n",
    "        rmv_reg = re.compile(\"(LEVEL[\\w\\d\\-\\s\\#\\.\\,]+)\\~\")\n",
    "        rmv = rmv_reg.search(add_text_cleaned2).group(0)\n",
    "        add_text_cleaned3 = add_text_cleaned2.replace(rmv,\"\")\n",
    "    elif \"CEP\" in add_text_cleaned2:\n",
    "        rmv_reg = re.compile(\"(CEP[\\w\\d\\-\\s\\#\\.\\,]+)\\~\")\n",
    "        rmv = rmv_reg.search(add_text_cleaned2).group(0)\n",
    "        add_text_cleaned3 = add_text_cleaned2.replace(rmv,\"\")\n",
    "    elif \"APT\" in add_text_cleaned2:\n",
    "        rmv_reg = re.compile(\"(APT[\\w\\d\\-\\s\\#\\.\\,]+)\\~\")\n",
    "        rmv = rmv_reg.search(add_text_cleaned2).group(0)\n",
    "        add_text_cleaned3 = add_text_cleaned2.replace(rmv,\"\")\n",
    "        \n",
    "    else:\n",
    "        add_text_cleaned3=add_text_cleaned2   \n",
    "    add_text_cleaned3"
   ]
  },
  {
   "cell_type": "code",
   "execution_count": 15,
   "metadata": {},
   "outputs": [
    {
     "data": {
      "text/plain": [
       "'770 STOCKTON ST'"
      ]
     },
     "execution_count": 15,
     "metadata": {},
     "output_type": "execute_result"
    }
   ],
   "source": [
    "regexp = re.compile(\"[~]+\\s+([\\d\\-]+\\s+[\\w\\s]+[\\w]+)[\\,\\.\\s\\d\\~]*(\\w[\\w\\s]+)\\,\\s([\\w]{2})\\s+[~]+([\\d]{5})\")\n",
    "regexp.search(add_text_cleaned3).group(1)\n"
   ]
  },
  {
   "cell_type": "code",
   "execution_count": null,
   "metadata": {},
   "outputs": [],
   "source": []
  }
 ],
 "metadata": {
  "kernelspec": {
   "display_name": "Python 3",
   "language": "python",
   "name": "python3"
  },
  "language_info": {
   "codemirror_mode": {
    "name": "ipython",
    "version": 3
   },
   "file_extension": ".py",
   "mimetype": "text/x-python",
   "name": "python",
   "nbconvert_exporter": "python",
   "pygments_lexer": "ipython3",
   "version": "3.6.4"
  }
 },
 "nbformat": 4,
 "nbformat_minor": 2
}
